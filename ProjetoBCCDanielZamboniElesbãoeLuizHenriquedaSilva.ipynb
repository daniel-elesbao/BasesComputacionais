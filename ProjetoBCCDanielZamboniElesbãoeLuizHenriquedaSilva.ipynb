{
  "nbformat": 4,
  "nbformat_minor": 0,
  "metadata": {
    "colab": {
      "provenance": [],
      "include_colab_link": true
    },
    "kernelspec": {
      "name": "python3",
      "display_name": "Python 3"
    },
    "language_info": {
      "name": "python"
    }
  },
  "cells": [
    {
      "cell_type": "markdown",
      "metadata": {
        "id": "view-in-github",
        "colab_type": "text"
      },
      "source": [
        "<a href=\"https://colab.research.google.com/github/daniel-elesbao/BasesComputacionais/blob/master/ProjetoBCCDanielZamboniElesb%C3%A3oeLuizHenriquedaSilva.ipynb\" target=\"_parent\"><img src=\"https://colab.research.google.com/assets/colab-badge.svg\" alt=\"Open In Colab\"/></a>"
      ]
    },
    {
      "cell_type": "markdown",
      "source": [
        "Projeto Final da Disciplina Bases Computacionais da Ciência Q3.2022 21h\n",
        "Estudo \n",
        "\n",
        "Daniel Zamboni Elesbão - RA: 11202230222\n",
        "\n",
        "Luiz Henrique da Silva - RA: 11202231412"
      ],
      "metadata": {
        "id": "LHrz0ozn9yHA"
      }
    },
    {
      "cell_type": "code",
      "execution_count": null,
      "metadata": {
        "id": "U1mRIO4G9b-Q",
        "colab": {
          "base_uri": "https://localhost:8080/",
          "height": 424
        },
        "outputId": "16dc43b1-5db0-4015-cc44-74f475e19a0e"
      },
      "outputs": [
        {
          "output_type": "display_data",
          "data": {
            "text/plain": [
              "    ISO3 CPI iso3  hdi_rank_2021\n",
              "0    DNK  88  DNK            6.0\n",
              "1    FIN  88  FIN           11.0\n",
              "2    NZL  88  NZL           13.0\n",
              "3    NOR  85  NOR            2.0\n",
              "4    SGP  85  SGP           12.0\n",
              "..   ...  ..  ...            ...\n",
              "170  AFG  16  AFG          180.0\n",
              "171  YEM  16  YEM          183.0\n",
              "172  VEN  14  VEN          120.0\n",
              "173  SYR  13  SYR          150.0\n",
              "174  SSD  11  SSD          191.0\n",
              "\n",
              "[175 rows x 4 columns]"
            ],
            "text/html": [
              "\n",
              "  <div id=\"df-95717d21-65db-48d1-8476-655a21174c2f\">\n",
              "    <div class=\"colab-df-container\">\n",
              "      <div>\n",
              "<style scoped>\n",
              "    .dataframe tbody tr th:only-of-type {\n",
              "        vertical-align: middle;\n",
              "    }\n",
              "\n",
              "    .dataframe tbody tr th {\n",
              "        vertical-align: top;\n",
              "    }\n",
              "\n",
              "    .dataframe thead th {\n",
              "        text-align: right;\n",
              "    }\n",
              "</style>\n",
              "<table border=\"1\" class=\"dataframe\">\n",
              "  <thead>\n",
              "    <tr style=\"text-align: right;\">\n",
              "      <th></th>\n",
              "      <th>ISO3</th>\n",
              "      <th>CPI</th>\n",
              "      <th>iso3</th>\n",
              "      <th>hdi_rank_2021</th>\n",
              "    </tr>\n",
              "  </thead>\n",
              "  <tbody>\n",
              "    <tr>\n",
              "      <th>0</th>\n",
              "      <td>DNK</td>\n",
              "      <td>88</td>\n",
              "      <td>DNK</td>\n",
              "      <td>6.0</td>\n",
              "    </tr>\n",
              "    <tr>\n",
              "      <th>1</th>\n",
              "      <td>FIN</td>\n",
              "      <td>88</td>\n",
              "      <td>FIN</td>\n",
              "      <td>11.0</td>\n",
              "    </tr>\n",
              "    <tr>\n",
              "      <th>2</th>\n",
              "      <td>NZL</td>\n",
              "      <td>88</td>\n",
              "      <td>NZL</td>\n",
              "      <td>13.0</td>\n",
              "    </tr>\n",
              "    <tr>\n",
              "      <th>3</th>\n",
              "      <td>NOR</td>\n",
              "      <td>85</td>\n",
              "      <td>NOR</td>\n",
              "      <td>2.0</td>\n",
              "    </tr>\n",
              "    <tr>\n",
              "      <th>4</th>\n",
              "      <td>SGP</td>\n",
              "      <td>85</td>\n",
              "      <td>SGP</td>\n",
              "      <td>12.0</td>\n",
              "    </tr>\n",
              "    <tr>\n",
              "      <th>...</th>\n",
              "      <td>...</td>\n",
              "      <td>...</td>\n",
              "      <td>...</td>\n",
              "      <td>...</td>\n",
              "    </tr>\n",
              "    <tr>\n",
              "      <th>170</th>\n",
              "      <td>AFG</td>\n",
              "      <td>16</td>\n",
              "      <td>AFG</td>\n",
              "      <td>180.0</td>\n",
              "    </tr>\n",
              "    <tr>\n",
              "      <th>171</th>\n",
              "      <td>YEM</td>\n",
              "      <td>16</td>\n",
              "      <td>YEM</td>\n",
              "      <td>183.0</td>\n",
              "    </tr>\n",
              "    <tr>\n",
              "      <th>172</th>\n",
              "      <td>VEN</td>\n",
              "      <td>14</td>\n",
              "      <td>VEN</td>\n",
              "      <td>120.0</td>\n",
              "    </tr>\n",
              "    <tr>\n",
              "      <th>173</th>\n",
              "      <td>SYR</td>\n",
              "      <td>13</td>\n",
              "      <td>SYR</td>\n",
              "      <td>150.0</td>\n",
              "    </tr>\n",
              "    <tr>\n",
              "      <th>174</th>\n",
              "      <td>SSD</td>\n",
              "      <td>11</td>\n",
              "      <td>SSD</td>\n",
              "      <td>191.0</td>\n",
              "    </tr>\n",
              "  </tbody>\n",
              "</table>\n",
              "<p>175 rows × 4 columns</p>\n",
              "</div>\n",
              "      <button class=\"colab-df-convert\" onclick=\"convertToInteractive('df-95717d21-65db-48d1-8476-655a21174c2f')\"\n",
              "              title=\"Convert this dataframe to an interactive table.\"\n",
              "              style=\"display:none;\">\n",
              "        \n",
              "  <svg xmlns=\"http://www.w3.org/2000/svg\" height=\"24px\"viewBox=\"0 0 24 24\"\n",
              "       width=\"24px\">\n",
              "    <path d=\"M0 0h24v24H0V0z\" fill=\"none\"/>\n",
              "    <path d=\"M18.56 5.44l.94 2.06.94-2.06 2.06-.94-2.06-.94-.94-2.06-.94 2.06-2.06.94zm-11 1L8.5 8.5l.94-2.06 2.06-.94-2.06-.94L8.5 2.5l-.94 2.06-2.06.94zm10 10l.94 2.06.94-2.06 2.06-.94-2.06-.94-.94-2.06-.94 2.06-2.06.94z\"/><path d=\"M17.41 7.96l-1.37-1.37c-.4-.4-.92-.59-1.43-.59-.52 0-1.04.2-1.43.59L10.3 9.45l-7.72 7.72c-.78.78-.78 2.05 0 2.83L4 21.41c.39.39.9.59 1.41.59.51 0 1.02-.2 1.41-.59l7.78-7.78 2.81-2.81c.8-.78.8-2.07 0-2.86zM5.41 20L4 18.59l7.72-7.72 1.47 1.35L5.41 20z\"/>\n",
              "  </svg>\n",
              "      </button>\n",
              "      \n",
              "  <style>\n",
              "    .colab-df-container {\n",
              "      display:flex;\n",
              "      flex-wrap:wrap;\n",
              "      gap: 12px;\n",
              "    }\n",
              "\n",
              "    .colab-df-convert {\n",
              "      background-color: #E8F0FE;\n",
              "      border: none;\n",
              "      border-radius: 50%;\n",
              "      cursor: pointer;\n",
              "      display: none;\n",
              "      fill: #1967D2;\n",
              "      height: 32px;\n",
              "      padding: 0 0 0 0;\n",
              "      width: 32px;\n",
              "    }\n",
              "\n",
              "    .colab-df-convert:hover {\n",
              "      background-color: #E2EBFA;\n",
              "      box-shadow: 0px 1px 2px rgba(60, 64, 67, 0.3), 0px 1px 3px 1px rgba(60, 64, 67, 0.15);\n",
              "      fill: #174EA6;\n",
              "    }\n",
              "\n",
              "    [theme=dark] .colab-df-convert {\n",
              "      background-color: #3B4455;\n",
              "      fill: #D2E3FC;\n",
              "    }\n",
              "\n",
              "    [theme=dark] .colab-df-convert:hover {\n",
              "      background-color: #434B5C;\n",
              "      box-shadow: 0px 1px 3px 1px rgba(0, 0, 0, 0.15);\n",
              "      filter: drop-shadow(0px 1px 2px rgba(0, 0, 0, 0.3));\n",
              "      fill: #FFFFFF;\n",
              "    }\n",
              "  </style>\n",
              "\n",
              "      <script>\n",
              "        const buttonEl =\n",
              "          document.querySelector('#df-95717d21-65db-48d1-8476-655a21174c2f button.colab-df-convert');\n",
              "        buttonEl.style.display =\n",
              "          google.colab.kernel.accessAllowed ? 'block' : 'none';\n",
              "\n",
              "        async function convertToInteractive(key) {\n",
              "          const element = document.querySelector('#df-95717d21-65db-48d1-8476-655a21174c2f');\n",
              "          const dataTable =\n",
              "            await google.colab.kernel.invokeFunction('convertToInteractive',\n",
              "                                                     [key], {});\n",
              "          if (!dataTable) return;\n",
              "\n",
              "          const docLinkHtml = 'Like what you see? Visit the ' +\n",
              "            '<a target=\"_blank\" href=https://colab.research.google.com/notebooks/data_table.ipynb>data table notebook</a>'\n",
              "            + ' to learn more about interactive tables.';\n",
              "          element.innerHTML = '';\n",
              "          dataTable['output_type'] = 'display_data';\n",
              "          await google.colab.output.renderOutput(dataTable, element);\n",
              "          const docLink = document.createElement('div');\n",
              "          docLink.innerHTML = docLinkHtml;\n",
              "          element.appendChild(docLink);\n",
              "        }\n",
              "      </script>\n",
              "    </div>\n",
              "  </div>\n",
              "  "
            ]
          },
          "metadata": {}
        }
      ],
      "source": [
        "#Estudo estatístico comparativo entre o Índice de Desenvolvimento Humano (IDH ou HDR na sigla em inglês) das \n",
        "#Nações Unidas e o Índice de Percepção da Corrupção (CPI) da Transparência Internacional\n",
        "#Projeto com inspiração na disciplina 'Estado e Relações de Poder'\n",
        "import matplotlib.pyplot as plt #importa a biblioteca mathplotlib como plt\n",
        "import pandas as pd #importa a biblioteca pandas como pd\n",
        "hdr21 = pd.read_csv('https://raw.githubusercontent.com/daniel-elesbao/BasesComputacionais/master/HDR21-22_Composite_indices_complete_time_series2.csv')\n",
        "#Lê o CSV com o ranking do Índice de Desenvolvimento Humano das Nações Unidas de 2021\n",
        "cpi21 = pd.read_excel('https://raw.githubusercontent.com/daniel-elesbao/BasesComputacionais/master/CPI2021_GlobalResults&Trends.xlsx')\n",
        "#Lê planilha Excel com o índice de percepção de corrupção da transparência internacional de 2021\n",
        "cpi21 = cpi21.drop(labels=[0,1], axis=0) #remove as duas primeiras linhas do DataFrame, sem dados relevantes\n",
        "cpi21 = cpi21.rename(columns={'Unnamed: 1': 'ISO3','Unnamed: 3': 'CPI'}) #renomeia as colunas com as informações relevantes\n",
        "descor = pd.merge(cpi21, hdr21, left_on='ISO3', right_on='iso3') #funde os Dataframes alinhando os dados dos países pela padronização do nome ISO3\n",
        "descor = descor[['ISO3','CPI','iso3','hdi_rank_2021']] #remove todas as colunas exceto as que tem as informações relevantes para o escopo do projeto\n",
        "\n",
        "display (descor)"
      ]
    },
    {
      "cell_type": "code",
      "source": [
        "import pandas as pd #importa a biblioteca pandas como pd\n",
        "import numpy as np #importa a biblioteca numpy como np\n",
        "import matplotlib.pylab as plb #importa a biblioteca mathplotlib como plt\n",
        "\n",
        "X = descor[\"CPI\"].values #Coluna CPI da tabela usada como coordenada X\n",
        "Y = descor[\"hdi_rank_2021\"].values #Coluna hdi_rank da tabela usada como coordenada Y\n",
        "\n",
        "media_X = np.mean(X) # média do X\n",
        "media_Y = np.mean(Y) # média do Y\n",
        "erro_x = X-media_X # Cálculo dos erros de X\n",
        "erro_y = Y-media_Y # Cálculo dos erros de Y\n",
        "soma_erro_xy = np.sum(erro_x*erro_y) # Somando o produto dos erros (faz parte da formula)\n",
        "erro_x_quadratico = (X-media_X)**2.0 # Encontrando o x quadratico (faz parte da formula)\n",
        "soma_erro_x_quadratico = np.sum(erro_x_quadratico) # Soma para ter o denominador completo (faz parte da formula)\n",
        "m = soma_erro_xy / soma_erro_x_quadratico # formula anteriormente mencionada (coeficiente angular)\n",
        "c = media_Y - m*media_X  # Formula para coeficiente linear\n",
        "reta = m*X+c # Equação usando os coeficientes anteriormente calculados para chegar na reta\n",
        "\n",
        "plt.scatter(X,Y,label='Países'); # Países separados por pontos no grafico \n",
        "plt.plot(X,reta,label='Tendência',color='red'); # Ajuste linear\n",
        "plt.xlabel('Índice de Percepção da Corrupção (CPI)'); # Da um titulo ao X \n",
        "plt.ylabel('Rank HDI'); # Da um titulo ao Y \n",
        "plt.legend(); # Insere legenda no grafico"
      ],
      "metadata": {
        "colab": {
          "base_uri": "https://localhost:8080/",
          "height": 401
        },
        "id": "JTvFDvZSrLZr",
        "outputId": "dad9f322-625c-4638-bed1-8c3090a104f9"
      },
      "execution_count": null,
      "outputs": [
        {
          "output_type": "stream",
          "name": "stdout",
          "text": [
            "Margens de erro da reta: MAE = 29.78\n",
            "Margens de erro da reta: RMSE = 35.89\n"
          ]
        },
        {
          "output_type": "display_data",
          "data": {
            "text/plain": [
              "<Figure size 576x396 with 1 Axes>"
            ],
            "image/png": "[encoded data removed]"
          },
          "metadata": {}
        }
      ]
    },
    {
      "cell_type": "code",
      "source": [
        "from sklearn.metrics import mean_absolute_error,mean_squared_error #importa a biblioteca numpy como mean_absolute_error e mean_squared_error\n",
        "MAE = mean_absolute_error(Y,reta) # Cálculo da margem de erro da reta\n",
        "RMSE = np.sqrt(mean_squared_error(Y,reta)) # Cálculo da margem de erro da reta\n",
        "print(\"Margens de erro da reta: MAE = {:0.2f}\".format(MAE))\n",
        "print(\"Margens de erro da reta: RMSE = {:0.2f}\".format(RMSE))"
      ],
      "metadata": {
        "id": "3SDvcbnjN5Wn",
        "outputId": "e03f25bf-ed7c-4a5e-c175-fceba47b0b03",
        "colab": {
          "base_uri": "https://localhost:8080/"
        }
      },
      "execution_count": null,
      "outputs": [
        {
          "output_type": "stream",
          "name": "stdout",
          "text": [
            "Margens de erro da reta: MAE = 29.78\n",
            "Margens de erro da reta: RMSE = 35.89\n"
          ]
        }
      ]
    },
    {
      "cell_type": "markdown",
      "source": [
        "Dados internacionais para o projeto\n",
        "https://www.transparency.org/en/cpi/2021\n",
        "https://hdr.undp.org/data-center"
      ],
      "metadata": {
        "id": "MaZABuBSKcqF"
      }
    }
  ]
}