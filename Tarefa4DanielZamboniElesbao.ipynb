{
  "nbformat": 4,
  "nbformat_minor": 0,
  "metadata": {
    "colab": {
      "provenance": [],
      "collapsed_sections": [],
      "authorship_tag": "ABX9TyOMXOH50Pyu0o1ZUUePeQ9r",
      "include_colab_link": true
    },
    "kernelspec": {
      "name": "python3",
      "display_name": "Python 3"
    },
    "language_info": {
      "name": "python"
    }
  },
  "cells": [
    {
      "cell_type": "markdown",
      "metadata": {
        "id": "view-in-github",
        "colab_type": "text"
      },
      "source": [
        "<a href=\"https://colab.research.google.com/github/daniel-elesbao/BasesComputacionais/blob/master/Tarefa4DanielZamboniElesbao.ipynb\" target=\"_parent\"><img src=\"https://colab.research.google.com/assets/colab-badge.svg\" alt=\"Open In Colab\"/></a>"
      ]
    },
    {
      "cell_type": "code",
      "execution_count": null,
      "metadata": {
        "id": "ZaB4ELWfHyNc"
      },
      "outputs": [],
      "source": [
        "Daniel Zamboni Elesbão - RA: 11202230222\n",
        "\n",
        "Tarefa 4 da disciplina Bases Computacionais da ciência"
      ]
    },
    {
      "cell_type": "code",
      "source": [
        "#Calcula O volume de uma esfera com raio contida em uma variável 'R'.\n",
        "import numpy as np #importa a biblioteca numpy como np\n",
        "r = 0,32 #define r conforme dados do exercício\n",
        "pi = np.pi # define pi conforme a função numpy\n",
        "volume = (4 / 3) * pi * (np.power(r, 3)) #Calcula o volume da esfera de raio R e atribui à variável volume\n",
        "print (\"O volume de uma esfera de raio\",R,\"metros é:\",volume,\"metros\") # Retorna o raio e o volume da esfera\n",
        "r = 1 #define r conforme dados do exercício\n",
        "pi = np.pi # define pi conforme a função numpy\n",
        "volume = (4 / 3) * pi * (np.power(r, 3)) #Calcula o volume da esfera de raio R e atribui à variável volume\n",
        "print (\"O volume de uma esfera de raio\",R,\"metros é:\",volume,\"metros\") # Retorna o raio e o volume da esfera\n",
        "r = 1,9 #define r conforme dados do exercício\n",
        "pi = np.pi # define pi conforme a função numpy\n",
        "volume = (4 / 3) * pi * (np.power(r, 3)) #Calcula o volume da esfera de raio R e atribui à variável volume\n",
        "print (\"O volume de uma esfera de raio\",R,\"metros é:\",volume,\"metros\") # Retorna o raio e o volume da esfera"
      ],
      "metadata": {
        "colab": {
          "base_uri": "https://localhost:8080/"
        },
        "id": "mbAwEmvEIJQV",
        "outputId": "ffbf5542-fb1e-4f54-cc80-41ac948bfe9d"
      },
      "execution_count": null,
      "outputs": [
        {
          "output_type": "stream",
          "name": "stdout",
          "text": [
            "O volume de uma esfera de raio (0, 32) metros é: [     0.         137258.27743044] metros\n",
            "O volume de uma esfera de raio (0, 32) metros é: 4.1887902047863905 metros\n",
            "O volume de uma esfera de raio (0, 32) metros é: [   4.1887902  3053.62805929] metros\n"
          ]
        }
      ]
    },
    {
      "cell_type": "code",
      "source": [
        "#Calcula a temperatura em Fahrenheit dada a temperatura em Celsius contida em uma variavel Tc\n",
        "Tc = -10\n"
      ],
      "metadata": {
        "id": "o6PQ3h0NOMEa"
      },
      "execution_count": null,
      "outputs": []
    }
  ]
}